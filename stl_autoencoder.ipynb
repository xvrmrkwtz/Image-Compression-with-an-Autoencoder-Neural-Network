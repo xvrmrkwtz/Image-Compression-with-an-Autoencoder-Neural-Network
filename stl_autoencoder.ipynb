{
 "cells": [
  {
   "cell_type": "code",
   "execution_count": 1576,
   "id": "0b4e3e72",
   "metadata": {},
   "outputs": [
    {
     "name": "stdout",
     "output_type": "stream",
     "text": [
      "The autoreload extension is already loaded. To reload it, use:\n",
      "  %reload_ext autoreload\n"
     ]
    }
   ],
   "source": [
    "import os\n",
    "import random\n",
    "import numpy as np\n",
    "import matplotlib.pyplot as plt\n",
    "import tensorflow as tf\n",
    "import load_stl10_dataset\n",
    "from mnist import get_mnist\n",
    "import preprocess_data\n",
    "from autoencoder import Autoencoder\n",
    "plt.show()\n",
    "plt.style.use(['seaborn-colorblind', 'seaborn-darkgrid'])\n",
    "plt.rcParams.update({'font.size': 20})\n",
    "\n",
    "np.set_printoptions(suppress=True, precision=7)\n",
    "\n",
    "# Automatically reload your external source code\n",
    "%load_ext autoreload\n",
    "%autoreload 2"
   ]
  },
  {
   "cell_type": "code",
   "execution_count": 1221,
   "id": "34f435bb",
   "metadata": {},
   "outputs": [
    {
     "name": "stdout",
     "output_type": "stream",
     "text": [
      "Images are: (5000, 96, 96, 3)\n",
      "Labels are: (5000,)\n",
      "Resizing 5000 images to 32x32...Done!\n",
      "Saving Numpy arrays the images and labels to ./numpy...Done!\n",
      "Train data shape:  (4398, 3, 32, 32)\n",
      "Train labels shape:  (4398,)\n",
      "Test data shape:  (400, 3, 32, 32)\n",
      "Test labels shape:  (400,)\n",
      "Validation data shape:  (200, 3, 32, 32)\n",
      "Validation labels shape:  (200,)\n",
      "dev data shape:  (2, 3, 32, 32)\n",
      "dev labels shape:  (2,)\n"
     ]
    }
   ],
   "source": [
    "# Download the STL-10 dataset from the internet, convert it to Numpy ndarray, resize to 16x16\n",
    "# cache it locally on your computer for faster loading next time.\n",
    "load_stl10_dataset.purge_cached_dataset()\n",
    "# preprocess and create splits\n",
    "# x_train, y_train, x_test, y_test, x_val, y_val, x_dev, y_dev, mean, std = preprocess_data.load_stl10_std(\n",
    "#     n_train_samps=4398, n_test_samps=400, n_valid_samps=200, n_dev_samps=2, scale_fact=3)\n",
    "\n",
    "x_train, y_train, x_test, y_test, x_val, y_val, x_dev, y_dev = preprocess_data.load_stl10_div(\n",
    "    n_train_samps=4398, n_test_samps=400, n_valid_samps=200, n_dev_samps=2, scale_fact=3)\n",
    "print ('Train data shape: ', x_train.shape)\n",
    "print ('Train labels shape: ', y_train.shape)\n",
    "print ('Test data shape: ', x_test.shape)\n",
    "print ('Test labels shape: ', y_test.shape)\n",
    "print ('Validation data shape: ', x_val.shape)\n",
    "print ('Validation labels shape: ', y_val.shape)\n",
    "print ('dev data shape: ', x_dev.shape)\n",
    "print ('dev labels shape: ', y_dev.shape)"
   ]
  },
  {
   "cell_type": "code",
   "execution_count": 1222,
   "id": "61128496",
   "metadata": {},
   "outputs": [],
   "source": [
    "x_train = x_train/255\n",
    "x_test = x_test/255\n",
    "x_val = x_val/255\n",
    "x_train = x_train - 0.5\n",
    "x_test = x_test - 0.5\n",
    "x_val = x_val - 0.5"
   ]
  },
  {
   "cell_type": "code",
   "execution_count": 1223,
   "id": "b92ddeed",
   "metadata": {},
   "outputs": [
    {
     "name": "stdout",
     "output_type": "stream",
     "text": [
      "(4398, 3072)\n"
     ]
    }
   ],
   "source": [
    "x_train_reshape = x_train.reshape(x_train.shape[0], x_train.shape[1]*x_train.shape[2]*x_train.shape[3])\n",
    "x_val_reshape = x_val.reshape(x_val.shape[0], x_val.shape[1]*x_val.shape[2]*x_val.shape[3])\n",
    "print(x_train_reshape.shape)"
   ]
  },
  {
   "cell_type": "code",
   "execution_count": 1503,
   "id": "24a70693",
   "metadata": {},
   "outputs": [
    {
     "name": "stdout",
     "output_type": "stream",
     "text": [
      "Epoch: 0 train loss: 0.513 val loss: 0.388\n",
      "Epoch: 50 train loss: 0.083 val loss: 0.083\n",
      "Epoch: 100 train loss: 0.064 val loss: 0.066\n",
      "Epoch: 150 train loss: 0.056 val loss: 0.058\n",
      "Epoch: 200 train loss: 0.050 val loss: 0.051\n",
      "Epoch: 250 train loss: 0.044 val loss: 0.045\n",
      "Epoch: 300 train loss: 0.039 val loss: 0.041\n",
      "Epoch: 350 train loss: 0.036 val loss: 0.038\n",
      "Epoch: 400 train loss: 0.033 val loss: 0.035\n",
      "Epoch: 450 train loss: 0.031 val loss: 0.032\n",
      "Epoch: 500 train loss: 0.029 val loss: 0.030\n",
      "Epoch: 550 train loss: 0.028 val loss: 0.029\n",
      "Epoch: 600 train loss: 0.027 val loss: 0.028\n",
      "Epoch: 650 train loss: 0.026 val loss: 0.028\n",
      "Epoch: 700 train loss: 0.026 val loss: 0.027\n",
      "Epoch: 750 train loss: 0.025 val loss: 0.027\n",
      "Epoch: 800 train loss: 0.025 val loss: 0.026\n",
      "Epoch: 850 train loss: 0.025 val loss: 0.026\n",
      "Epoch: 900 train loss: 0.025 val loss: 0.026\n",
      "Epoch: 950 train loss: 0.025 val loss: 0.025\n",
      "Done Training!\n"
     ]
    }
   ],
   "source": [
    "#best one so far\n",
    "best = Autoencoder(x_train_reshape.shape[1], 128, 32)\n",
    "num_epochs = 1000\n",
    "val_every = 50\n",
    "print_every = 50\n",
    "patience = 3\n",
    "best_train_loss_hist, best_val_loss_hist, best_n_epochs = best.fit(x_train_reshape, x_val_reshape, num_epochs, 1e-4, 750, patience, val_every, print_every)\n"
   ]
  },
  {
   "cell_type": "code",
   "execution_count": 1249,
   "id": "22b03ea4",
   "metadata": {},
   "outputs": [
    {
     "name": "stdout",
     "output_type": "stream",
     "text": [
      "Epoch: 0 train loss: 0.098 val loss: 0.091\n",
      "Epoch: 50 train loss: 0.061 val loss: 0.060\n",
      "Epoch: 100 train loss: 0.053 val loss: 0.052\n",
      "Epoch: 150 train loss: 0.051 val loss: 0.051\n",
      "Epoch: 200 train loss: 0.050 val loss: 0.049\n",
      "Epoch: 250 train loss: 0.049 val loss: 0.048\n",
      "Epoch: 300 train loss: 0.048 val loss: 0.048\n",
      "Epoch: 350 train loss: 0.049 val loss: 0.048\n",
      "Epoch: 400 train loss: 0.048 val loss: 0.048\n",
      "Epoch: 450 train loss: 0.048 val loss: 0.048\n",
      "Epoch: 500 train loss: 0.048 val loss: 0.047\n",
      "Epoch: 550 train loss: 0.048 val loss: 0.047\n",
      "Epoch: 600 train loss: 0.048 val loss: 0.047\n",
      "Epoch: 650 train loss: 0.048 val loss: 0.047\n",
      "Epoch: 700 train loss: 0.048 val loss: 0.047\n",
      "Epoch: 750 train loss: 0.049 val loss: 0.047\n",
      "Epoch: 800 train loss: 0.048 val loss: 0.047\n",
      "Epoch: 850 train loss: 0.048 val loss: 0.047\n",
      "Done Training!\n"
     ]
    }
   ],
   "source": [
    "one_neuron = Autoencoder(x_train_reshape.shape[1], 128, 1)\n",
    "num_epochs = 1000\n",
    "val_every = 50\n",
    "print_every = 50\n",
    "patience = 2\n",
    "one_train_loss_hist, one_val_loss_hist, one_n_epochs = one_neuron.fit(x_train_reshape, x_val_reshape, num_epochs, 1e-4, 750, patience, val_every, print_every)\n"
   ]
  },
  {
   "cell_type": "code",
   "execution_count": 1252,
   "id": "9253d746",
   "metadata": {},
   "outputs": [
    {
     "name": "stdout",
     "output_type": "stream",
     "text": [
      "Epoch: 0 train loss: 0.104 val loss: 0.095\n",
      "Epoch: 50 train loss: 0.062 val loss: 0.061\n",
      "Epoch: 100 train loss: 0.050 val loss: 0.050\n",
      "Epoch: 150 train loss: 0.047 val loss: 0.046\n",
      "Epoch: 200 train loss: 0.045 val loss: 0.045\n",
      "Epoch: 250 train loss: 0.044 val loss: 0.043\n",
      "Epoch: 300 train loss: 0.042 val loss: 0.041\n",
      "Epoch: 350 train loss: 0.042 val loss: 0.041\n",
      "Epoch: 400 train loss: 0.042 val loss: 0.040\n",
      "Epoch: 450 train loss: 0.041 val loss: 0.040\n",
      "Epoch: 500 train loss: 0.041 val loss: 0.040\n",
      "Epoch: 550 train loss: 0.041 val loss: 0.040\n",
      "Epoch: 600 train loss: 0.041 val loss: 0.040\n",
      "Epoch: 650 train loss: 0.041 val loss: 0.039\n",
      "Epoch: 700 train loss: 0.041 val loss: 0.039\n",
      "Epoch: 750 train loss: 0.041 val loss: 0.039\n",
      "Epoch: 800 train loss: 0.041 val loss: 0.039\n",
      "Epoch: 850 train loss: 0.041 val loss: 0.039\n",
      "Epoch: 900 train loss: 0.041 val loss: 0.039\n",
      "Epoch: 950 train loss: 0.041 val loss: 0.039\n",
      "Done Training!\n"
     ]
    }
   ],
   "source": [
    "\n",
    "two_neuron = Autoencoder(x_train_reshape.shape[1], 128, 2)\n",
    "num_epochs = 1000\n",
    "val_every = 50\n",
    "print_every = 50\n",
    "patience = 3\n",
    "two_train_loss_hist, two_val_loss_hist, two_n_epochs = two_neuron.fit(x_train_reshape, x_val_reshape, num_epochs, 1e-4, 750, patience, val_every, print_every)\n"
   ]
  },
  {
   "cell_type": "code",
   "execution_count": 1253,
   "id": "1875531f",
   "metadata": {},
   "outputs": [
    {
     "name": "stdout",
     "output_type": "stream",
     "text": [
      "Epoch: 0 train loss: 0.122 val loss: 0.107\n",
      "Epoch: 50 train loss: 0.061 val loss: 0.061\n",
      "Epoch: 100 train loss: 0.051 val loss: 0.050\n",
      "Epoch: 150 train loss: 0.045 val loss: 0.045\n",
      "Epoch: 200 train loss: 0.042 val loss: 0.041\n",
      "Epoch: 250 train loss: 0.038 val loss: 0.038\n",
      "Epoch: 300 train loss: 0.036 val loss: 0.037\n",
      "Epoch: 350 train loss: 0.036 val loss: 0.035\n",
      "Epoch: 400 train loss: 0.035 val loss: 0.035\n",
      "Epoch: 450 train loss: 0.035 val loss: 0.034\n",
      "Epoch: 500 train loss: 0.034 val loss: 0.034\n",
      "Epoch: 550 train loss: 0.034 val loss: 0.033\n",
      "Epoch: 600 train loss: 0.034 val loss: 0.033\n",
      "Epoch: 650 train loss: 0.034 val loss: 0.033\n",
      "Epoch: 700 train loss: 0.034 val loss: 0.033\n",
      "Epoch: 750 train loss: 0.033 val loss: 0.033\n",
      "Epoch: 800 train loss: 0.034 val loss: 0.033\n",
      "Epoch: 850 train loss: 0.033 val loss: 0.033\n",
      "Epoch: 900 train loss: 0.034 val loss: 0.033\n",
      "Epoch: 950 train loss: 0.034 val loss: 0.033\n",
      "Done Training!\n"
     ]
    }
   ],
   "source": [
    "\n",
    "four_neuron = Autoencoder(x_train_reshape.shape[1], 128, 4)\n",
    "num_epochs = 1000\n",
    "val_every = 50\n",
    "print_every = 50\n",
    "patience = 3\n",
    "four_train_loss_hist, four_val_loss_hist, four_n_epochs = four_neuron.fit(x_train_reshape, x_val_reshape, num_epochs, 1e-4, 750, patience, val_every, print_every)\n"
   ]
  },
  {
   "cell_type": "code",
   "execution_count": 1254,
   "id": "0de29b22",
   "metadata": {},
   "outputs": [
    {
     "name": "stdout",
     "output_type": "stream",
     "text": [
      "Epoch: 0 train loss: 0.196 val loss: 0.158\n",
      "Epoch: 50 train loss: 0.066 val loss: 0.066\n",
      "Epoch: 100 train loss: 0.055 val loss: 0.055\n",
      "Epoch: 150 train loss: 0.045 val loss: 0.045\n",
      "Epoch: 200 train loss: 0.040 val loss: 0.040\n",
      "Epoch: 250 train loss: 0.037 val loss: 0.038\n",
      "Epoch: 300 train loss: 0.035 val loss: 0.035\n",
      "Epoch: 350 train loss: 0.033 val loss: 0.033\n",
      "Epoch: 400 train loss: 0.031 val loss: 0.031\n",
      "Epoch: 450 train loss: 0.030 val loss: 0.030\n",
      "Epoch: 500 train loss: 0.030 val loss: 0.030\n",
      "Epoch: 550 train loss: 0.028 val loss: 0.029\n",
      "Epoch: 600 train loss: 0.028 val loss: 0.029\n",
      "Epoch: 650 train loss: 0.029 val loss: 0.029\n",
      "Epoch: 700 train loss: 0.028 val loss: 0.028\n",
      "Epoch: 750 train loss: 0.027 val loss: 0.027\n",
      "Epoch: 800 train loss: 0.027 val loss: 0.026\n",
      "Epoch: 850 train loss: 0.026 val loss: 0.026\n",
      "Epoch: 900 train loss: 0.026 val loss: 0.026\n",
      "Epoch: 950 train loss: 0.026 val loss: 0.026\n",
      "Done Training!\n"
     ]
    }
   ],
   "source": [
    "\n",
    "ten_neuron = Autoencoder(x_train_reshape.shape[1], 128, 10)\n",
    "num_epochs = 1000\n",
    "val_every = 50\n",
    "print_every = 50\n",
    "patience = 3\n",
    "ten_train_loss_hist, ten_val_loss_hist, ten_n_epochs = ten_neuron.fit(x_train_reshape, x_val_reshape, num_epochs, 1e-4, 750, patience, val_every, print_every)\n"
   ]
  },
  {
   "cell_type": "code",
   "execution_count": 1467,
   "id": "c7e7339c",
   "metadata": {},
   "outputs": [
    {
     "data": {
      "image/png": "[encoded data removed]",
      "text/plain": [
       "<Figure size 640x480 with 1 Axes>"
      ]
     },
     "metadata": {},
     "output_type": "display_data"
    }
   ],
   "source": [
    "plt.plot(np.arange(0,best_n_epochs), best_train_loss_hist)\n",
    "plt.savefig('best/train_loss.svg')\n",
    "plt.show()"
   ]
  },
  {
   "cell_type": "code",
   "execution_count": 1468,
   "id": "a587c5f8",
   "metadata": {},
   "outputs": [
    {
     "data": {
      "image/png": "[encoded data removed]",
      "text/plain": [
       "<Figure size 640x480 with 1 Axes>"
      ]
     },
     "metadata": {},
     "output_type": "display_data"
    }
   ],
   "source": [
    "plt.plot(np.arange(0, best_n_epochs/val_every), best_val_loss_hist)\n",
    "plt.savefig('best/val_loss.svg')\n",
    "plt.show()"
   ]
  },
  {
   "cell_type": "code",
   "execution_count": 1570,
   "id": "25fcddc5",
   "metadata": {},
   "outputs": [],
   "source": [
    "test_predict = x_test[9]"
   ]
  },
  {
   "cell_type": "code",
   "execution_count": 1572,
   "id": "85c24a51",
   "metadata": {
    "scrolled": false
   },
   "outputs": [
    {
     "data": {
      "image/png": "[encoded data removed]",
      "text/plain": [
       "<Figure size 640x480 with 1 Axes>"
      ]
     },
     "metadata": {},
     "output_type": "display_data"
    }
   ],
   "source": [
    "# predict_std = (test_predict * std) + mean\n",
    "stl_img = test_predict +.5\n",
    "stl_img = np.transpose(stl_img, (1, 2, 0))\n",
    "# plt.imshow(stl_img.T)\n",
    "plt.imshow(stl_img)\n",
    "ax = plt.gca()\n",
    "ax.xaxis.set_tick_params(labelbottom=False)\n",
    "ax.yaxis.set_tick_params(labelleft=False)\n",
    "\n",
    "ax.set_xticks([])\n",
    "ax.set_yticks([])\n",
    "plt.savefig('original_images/stl_10/horse.svg')\n",
    "plt.show()"
   ]
  },
  {
   "cell_type": "code",
   "execution_count": 1541,
   "id": "17fc0ca0",
   "metadata": {},
   "outputs": [
    {
     "name": "stdout",
     "output_type": "stream",
     "text": [
      "(1, 3072)\n"
     ]
    },
    {
     "data": {
      "image/png": "[encoded data removed]",
      "text/plain": [
       "<Figure size 640x480 with 1 Axes>"
      ]
     },
     "metadata": {},
     "output_type": "display_data"
    }
   ],
   "source": [
    "img = test_predict.reshape(1, x_test.shape[1]*x_test.shape[2]*x_test.shape[3])\n",
    "out = best.forward(img)\n",
    "out = out.numpy()\n",
    "print(out.shape)\n",
    "recon = np.squeeze(out.reshape(1, x_test.shape[1],x_test.shape[2],x_test.shape[3]))\n",
    "recon = np.transpose(recon, (1, 2, 0))\n",
    "# print(recon.shape)\n",
    "# recon = (recon * std) + mean\n",
    "recon = recon+.5\n",
    "plt.imshow(recon)\n",
    "ax = plt.gca()\n",
    "ax.xaxis.set_tick_params(labelbottom=False)\n",
    "ax.yaxis.set_tick_params(labelleft=False)\n",
    "ax.set_xticks([])\n",
    "ax.set_yticks([])\n",
    "plt.savefig('best/horse.svg')\n",
    "plt.show()"
   ]
  },
  {
   "cell_type": "code",
   "execution_count": 1439,
   "id": "a0398851",
   "metadata": {},
   "outputs": [
    {
     "name": "stdout",
     "output_type": "stream",
     "text": [
      "tf.Tensor(\n",
      "[[-1.8899547  1.2922616  2.9598403  1.3880452  0.9641411  1.8559988\n",
      "  -0.1580462  0.8858662  0.9338547  1.0368972]], shape=(1, 10), dtype=float32)\n"
     ]
    }
   ],
   "source": [
    "img = test_predict.reshape(1, x_test.shape[1]*x_test.shape[2]*x_test.shape[3])\n",
    "bottle_neurons = best_neuron.get_bottle_neurons(img)\n",
    "print(bottle_neurons)"
   ]
  },
  {
   "cell_type": "code",
   "execution_count": 1578,
   "id": "e5e41299",
   "metadata": {},
   "outputs": [
    {
     "data": {
      "image/png": "[encoded data removed]",
      "text/plain": [
       "<Figure size 640x480 with 1 Axes>"
      ]
     },
     "metadata": {},
     "output_type": "display_data"
    }
   ],
   "source": [
    "img = x_test[1].reshape(1, x_test.shape[1]*x_test.shape[2]*x_test.shape[3])\n",
    "bottle_neurons = best.get_bottle_neurons(img)\n",
    "bottle_neurons_norm = tf.keras.utils.normalize(bottle_neurons).numpy()\n",
    "# bottle_neurons_norm = bottle_neurons_norm*255\n",
    "plt.imshow(bottle_neurons_norm.reshape(4,8))\n",
    "plt.show()\n",
    "# print(bottle_neurons)"
   ]
  },
  {
   "cell_type": "code",
   "execution_count": null,
   "id": "1dc00238",
   "metadata": {},
   "outputs": [],
   "source": []
  }
 ],
 "metadata": {
  "kernelspec": {
   "display_name": "Python 3 (ipykernel)",
   "language": "python",
   "name": "python3"
  },
  "language_info": {
   "codemirror_mode": {
    "name": "ipython",
    "version": 3
   },
   "file_extension": ".py",
   "mimetype": "text/x-python",
   "name": "python",
   "nbconvert_exporter": "python",
   "pygments_lexer": "ipython3",
   "version": "3.10.6"
  }
 },
 "nbformat": 4,
 "nbformat_minor": 5
}
