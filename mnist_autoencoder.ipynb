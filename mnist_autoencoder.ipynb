{
 "cells": [
  {
   "cell_type": "code",
   "execution_count": 960,
   "id": "daad8a9c",
   "metadata": {},
   "outputs": [
    {
     "name": "stdout",
     "output_type": "stream",
     "text": [
      "The autoreload extension is already loaded. To reload it, use:\n",
      "  %reload_ext autoreload\n"
     ]
    }
   ],
   "source": [
    "import os\n",
    "import random\n",
    "import numpy as np\n",
    "import tensorflow as tf\n",
    "import matplotlib.pyplot as plt\n",
    "import mnist\n",
    "import preprocess_data\n",
    "from autoencoder import Autoencoder\n",
    "plt.show()\n",
    "plt.style.use(['seaborn-colorblind', 'seaborn-darkgrid'])\n",
    "plt.rcParams.update({'font.size': 20})\n",
    "\n",
    "np.set_printoptions(suppress=True, precision=7)\n",
    "\n",
    "# Automatically reload your external source code\n",
    "%load_ext autoreload\n",
    "%autoreload 2"
   ]
  },
  {
   "cell_type": "code",
   "execution_count": 430,
   "id": "37cd3e0b",
   "metadata": {},
   "outputs": [
    {
     "name": "stdout",
     "output_type": "stream",
     "text": [
      "preprocess_images: No resizing to do, scale factor = 1.\n",
      "preprocess_images: No resizing to do, scale factor = 1.\n",
      "preprocess_images: No resizing to do, scale factor = 1.\n",
      "(58000, 784)\n"
     ]
    }
   ],
   "source": [
    "x_train, y_train, x_test, y_test, x_val, y_val = mnist.get_mnist(2000, 1)\n",
    "print(x_train.shape)"
   ]
  },
  {
   "cell_type": "code",
   "execution_count": 463,
   "id": "4590d87b",
   "metadata": {},
   "outputs": [
    {
     "name": "stdout",
     "output_type": "stream",
     "text": [
      "Epoch: 0 train loss: 0.172 val loss: 0.124\n",
      "Epoch: 50 train loss: 0.049 val loss: 0.049\n",
      "Epoch: 100 train loss: 0.040 val loss: 0.040\n",
      "Epoch: 150 train loss: 0.036 val loss: 0.036\n",
      "Epoch: 200 train loss: 0.035 val loss: 0.034\n",
      "Epoch: 250 train loss: 0.033 val loss: 0.033\n",
      "Epoch: 300 train loss: 0.032 val loss: 0.031\n",
      "Epoch: 350 train loss: 0.031 val loss: 0.030\n",
      "Epoch: 400 train loss: 0.027 val loss: 0.027\n",
      "Epoch: 450 train loss: 0.025 val loss: 0.025\n",
      "Epoch: 500 train loss: 0.023 val loss: 0.023\n",
      "Epoch: 550 train loss: 0.022 val loss: 0.021\n",
      "Epoch: 600 train loss: 0.021 val loss: 0.021\n",
      "Epoch: 650 train loss: 0.020 val loss: 0.020\n",
      "Epoch: 700 train loss: 0.020 val loss: 0.019\n",
      "Epoch: 750 train loss: 0.020 val loss: 0.019\n",
      "Epoch: 800 train loss: 0.019 val loss: 0.019\n",
      "Epoch: 850 train loss: 0.019 val loss: 0.018\n",
      "Epoch: 900 train loss: 0.018 val loss: 0.018\n",
      "Epoch: 950 train loss: 0.018 val loss: 0.018\n",
      "Done Training!\n"
     ]
    }
   ],
   "source": [
    "#best one so far\n",
    "best = Autoencoder(x_train.shape[1], 128, 32)\n",
    "num_epochs = 1000\n",
    "val_every = 50\n",
    "print_every = 50\n",
    "patience = 2\n",
    "best_train_loss_hist, best_val_loss_hist, best_n_epochs = best.fit(x_train, x_val, num_epochs, 1e-4, 750, patience, val_every, print_every)\n"
   ]
  },
  {
   "cell_type": "code",
   "execution_count": 675,
   "id": "c6751406",
   "metadata": {},
   "outputs": [
    {
     "name": "stdout",
     "output_type": "stream",
     "text": [
      "Epoch: 0 train loss: 0.120 val loss: 0.110\n",
      "Epoch: 50 train loss: 0.061 val loss: 0.061\n",
      "Epoch: 100 train loss: 0.061 val loss: 0.061\n",
      "Epoch: 150 train loss: 0.061 val loss: 0.061\n",
      "Epoch: 200 train loss: 0.061 val loss: 0.061\n",
      "Done Training!\n"
     ]
    }
   ],
   "source": [
    "#needs all layers to have relu act\n",
    "one_neuron = Autoencoder(x_train.shape[1], 128, 1)\n",
    "num_epochs = 1000\n",
    "val_every = 50\n",
    "print_every = 50\n",
    "patience = 3\n",
    "one_train_loss_hist, one_val_loss_hist, one_n_epochs = one_neuron.fit(x_train, x_val, num_epochs, 1e-4, 750, patience, val_every, print_every)\n"
   ]
  },
  {
   "cell_type": "code",
   "execution_count": 465,
   "id": "5093aa48",
   "metadata": {},
   "outputs": [
    {
     "name": "stdout",
     "output_type": "stream",
     "text": [
      "Epoch: 0 train loss: 0.125 val loss: 0.113\n",
      "Epoch: 50 train loss: 0.061 val loss: 0.061\n",
      "Epoch: 100 train loss: 0.061 val loss: 0.061\n",
      "Epoch: 150 train loss: 0.061 val loss: 0.061\n",
      "Epoch: 200 train loss: 0.061 val loss: 0.061\n",
      "Done Training!\n"
     ]
    }
   ],
   "source": [
    "\n",
    "two_neuron = Autoencoder(x_train.shape[1], 128, 2)\n",
    "num_epochs = 1000\n",
    "val_every = 50\n",
    "print_every = 50\n",
    "patience = 3\n",
    "two_train_loss_hist, two_val_loss_hist, two_n_epochs = two_neuron.fit(x_train, x_val, num_epochs, 1e-4, 750, patience, val_every, print_every)\n"
   ]
  },
  {
   "cell_type": "code",
   "execution_count": 466,
   "id": "0d4825be",
   "metadata": {},
   "outputs": [
    {
     "name": "stdout",
     "output_type": "stream",
     "text": [
      "Epoch: 0 train loss: 0.123 val loss: 0.109\n",
      "Epoch: 50 train loss: 0.062 val loss: 0.062\n",
      "Epoch: 100 train loss: 0.061 val loss: 0.061\n",
      "Epoch: 150 train loss: 0.056 val loss: 0.056\n",
      "Epoch: 200 train loss: 0.052 val loss: 0.052\n",
      "Epoch: 250 train loss: 0.052 val loss: 0.052\n",
      "Epoch: 300 train loss: 0.052 val loss: 0.052\n",
      "Epoch: 350 train loss: 0.052 val loss: 0.052\n",
      "Done Training!\n"
     ]
    }
   ],
   "source": [
    "\n",
    "four_neuron = Autoencoder(x_train.shape[1], 128, 4)\n",
    "num_epochs = 1000\n",
    "val_every = 50\n",
    "print_every = 50\n",
    "patience = 3\n",
    "four_train_loss_hist, four_val_loss_hist, four_n_epochs = four_neuron.fit(x_train, x_val, num_epochs, 1e-4, 750, patience, val_every, print_every)\n"
   ]
  },
  {
   "cell_type": "code",
   "execution_count": 467,
   "id": "0af0b5ff",
   "metadata": {},
   "outputs": [
    {
     "name": "stdout",
     "output_type": "stream",
     "text": [
      "Epoch: 0 train loss: 0.137 val loss: 0.114\n",
      "Epoch: 50 train loss: 0.052 val loss: 0.052\n",
      "Epoch: 100 train loss: 0.049 val loss: 0.048\n",
      "Epoch: 150 train loss: 0.045 val loss: 0.045\n",
      "Epoch: 200 train loss: 0.045 val loss: 0.045\n",
      "Epoch: 250 train loss: 0.042 val loss: 0.042\n",
      "Epoch: 300 train loss: 0.040 val loss: 0.040\n",
      "Epoch: 350 train loss: 0.038 val loss: 0.038\n",
      "Epoch: 400 train loss: 0.036 val loss: 0.036\n",
      "Epoch: 450 train loss: 0.036 val loss: 0.036\n",
      "Epoch: 500 train loss: 0.036 val loss: 0.036\n",
      "Epoch: 550 train loss: 0.036 val loss: 0.036\n",
      "Epoch: 600 train loss: 0.034 val loss: 0.034\n",
      "Epoch: 650 train loss: 0.034 val loss: 0.034\n",
      "Epoch: 700 train loss: 0.034 val loss: 0.034\n",
      "Epoch: 750 train loss: 0.034 val loss: 0.034\n",
      "Epoch: 800 train loss: 0.034 val loss: 0.034\n",
      "Done Training!\n"
     ]
    }
   ],
   "source": [
    "\n",
    "ten_neuron = Autoencoder(x_train.shape[1], 128, 10)\n",
    "num_epochs = 1000\n",
    "val_every = 50\n",
    "print_every = 50\n",
    "patience = 3\n",
    "ten_train_loss_hist, ten_val_loss_hist, ten_n_epochs = ten_neuron.fit(x_train, x_val, num_epochs, 1e-4, 750, patience, val_every, print_every)\n"
   ]
  },
  {
   "cell_type": "code",
   "execution_count": 864,
   "id": "2e1b5f2f",
   "metadata": {},
   "outputs": [
    {
     "data": {
      "image/png": "[encoded data removed]",
      "text/plain": [
       "<Figure size 640x480 with 1 Axes>"
      ]
     },
     "metadata": {},
     "output_type": "display_data"
    }
   ],
   "source": [
    "plt.plot(np.arange(0, best_n_epochs), best_train_loss_hist)\n",
    "plt.savefig('best/train_loss.svg')\n",
    "plt.show()"
   ]
  },
  {
   "cell_type": "code",
   "execution_count": 865,
   "id": "f28a04e0",
   "metadata": {},
   "outputs": [
    {
     "data": {
      "image/png": "[encoded data removed]",
      "text/plain": [
       "<Figure size 640x480 with 1 Axes>"
      ]
     },
     "metadata": {},
     "output_type": "display_data"
    }
   ],
   "source": [
    "plt.plot(np.arange(0,best_n_epochs/val_every), best_val_loss_hist)\n",
    "plt.savefig('best/val_loss.svg')\n",
    "plt.show()"
   ]
  },
  {
   "cell_type": "code",
   "execution_count": 955,
   "id": "91d1265c",
   "metadata": {},
   "outputs": [],
   "source": [
    "img_predict = x_test[4]"
   ]
  },
  {
   "cell_type": "code",
   "execution_count": 956,
   "id": "5a3c1780",
   "metadata": {},
   "outputs": [
    {
     "data": {
      "image/png": "[encoded data removed]",
      "text/plain": [
       "<Figure size 640x480 with 1 Axes>"
      ]
     },
     "metadata": {},
     "output_type": "display_data"
    }
   ],
   "source": [
    "# stl_img = img_predict +.5\n",
    "stl_img = img_predict.reshape(28,28)\n",
    "stl_img = np.transpose(stl_img, (0, 1))\n",
    "# plt.imshow(stl_img.T)\n",
    "plt.imshow(stl_img)\n",
    "ax = plt.gca()\n",
    "ax.xaxis.set_tick_params(labelbottom=False)\n",
    "ax.yaxis.set_tick_params(labelleft=False)\n",
    "\n",
    "ax.set_xticks([])\n",
    "ax.set_yticks([])\n",
    "# plt.savefig('original_images/mnist/four.svg')\n",
    "plt.show()"
   ]
  },
  {
   "cell_type": "code",
   "execution_count": 957,
   "id": "817f4f6d",
   "metadata": {},
   "outputs": [
    {
     "name": "stdout",
     "output_type": "stream",
     "text": [
      "(1, 784)\n"
     ]
    },
    {
     "data": {
      "image/png": "[encoded data removed]",
      "text/plain": [
       "<Figure size 640x480 with 1 Axes>"
      ]
     },
     "metadata": {},
     "output_type": "display_data"
    }
   ],
   "source": [
    "img = img_predict.reshape(1, img_predict.shape[0])\n",
    "out = ten_neuron.forward(img)\n",
    "out = out.numpy()\n",
    "print(out.shape)\n",
    "recon = np.squeeze(out.reshape(1, 28,28))\n",
    "# print(recon.shape)\n",
    "# recon = (recon * std) + mean \n",
    "recon = recon+.5\n",
    "recon = np.transpose(recon, (0,1))\n",
    "# plt.imshow(stl_img.T)\n",
    "plt.imshow(recon)\n",
    "ax = plt.gca()\n",
    "ax.xaxis.set_tick_params(labelbottom=False)\n",
    "ax.yaxis.set_tick_params(labelleft=False)\n",
    "\n",
    "ax.set_xticks([])\n",
    "ax.set_yticks([])\n",
    "plt.savefig('mnist_results/ten_neuron/two.svg')\n",
    "plt.show()"
   ]
  },
  {
   "cell_type": "code",
   "execution_count": 871,
   "id": "7c55eae8",
   "metadata": {},
   "outputs": [
    {
     "name": "stdout",
     "output_type": "stream",
     "text": [
      "tf.Tensor(\n",
      "[[ 1.110049   3.1751428  1.7676016  0.851005   0.8239177  2.5875385\n",
      "   1.7581013  2.3427908  0.9831637  0.1003567  1.5470893  2.9331102\n",
      "   1.1417239  0.776002   2.1836984 -2.460273   1.665304   1.5700753\n",
      "   1.6923395  1.8113335  3.131758   2.2699273  1.2791634  1.8358198\n",
      "   3.4367404 -1.7614926  1.4926684  3.2497694  2.1397223  1.0367129\n",
      "   2.2240949  2.1596391]], shape=(1, 32), dtype=float32)\n"
     ]
    }
   ],
   "source": [
    "img = img_predict.reshape(1, img_predict.shape[0])\n",
    "bottle_neurons = best.get_bottle_neurons(img)\n",
    "print(bottle_neurons)"
   ]
  },
  {
   "cell_type": "code",
   "execution_count": 918,
   "id": "8db4e121",
   "metadata": {},
   "outputs": [
    {
     "name": "stdout",
     "output_type": "stream",
     "text": [
      "{0: 0.6731367573674236, 1: 1.8448098856972177, 2: 1.25390981851947, 3: 1.2561716698774017, 4: 1.3548389480215954, 5: 1.2284700513353797, 6: 1.1456833659109342, 7: 1.4792098000007845, 8: 1.288045598297271, 9: 1.3867185656332048}\n"
     ]
    }
   ],
   "source": [
    "averages = {}\n",
    "sums = [0,0,0,0,0,0,0,0,0,0]\n",
    "counts = [0,0,0,0,0,0,0,0,0,0]\n",
    "for i in range(x_test.shape[0]):\n",
    "    img = x_test[i]\n",
    "    label = y_test[i]\n",
    "    img = img.reshape(1, img_predict.shape[0])\n",
    "    bottle_neuron = one_neuron.get_bottle_neurons(img).numpy()\n",
    "    sums[label] += bottle_neuron[0,0]\n",
    "    counts[label] += 1\n",
    "\n",
    "for i in range(len(sums)):\n",
    "    averages[i] = (sums[i]/counts[i])\n",
    "    \n",
    "print(averages)"
   ]
  },
  {
   "cell_type": "code",
   "execution_count": 978,
   "id": "36a0cf30",
   "metadata": {},
   "outputs": [
    {
     "data": {
      "image/png": "[encoded data removed]",
      "text/plain": [
       "<Figure size 640x480 with 1 Axes>"
      ]
     },
     "metadata": {},
     "output_type": "display_data"
    }
   ],
   "source": [
    "img = x_test[0].reshape(1, img_predict.shape[0])\n",
    "bottle_neurons = four_neuron.get_bottle_neurons(img)\n",
    "bottle_neurons_norm = tf.keras.utils.normalize(bottle_neurons).numpy()\n",
    "# bottle_neurons_norm = bottle_neurons_norm*255\n",
    "plt.imshow(bottle_neurons_norm.reshape(2,2))\n",
    "ax = plt.gca()\n",
    "ax.xaxis.set_tick_params(labelbottom=False)\n",
    "ax.yaxis.set_tick_params(labelleft=False)\n",
    "\n",
    "ax.set_xticks([])\n",
    "ax.set_yticks([])\n",
    "plt.show()\n",
    "# print(bottle_neurons)"
   ]
  },
  {
   "cell_type": "code",
   "execution_count": null,
   "id": "bfda2e1f",
   "metadata": {},
   "outputs": [],
   "source": []
  }
 ],
 "metadata": {
  "kernelspec": {
   "display_name": "Python 3 (ipykernel)",
   "language": "python",
   "name": "python3"
  },
  "language_info": {
   "codemirror_mode": {
    "name": "ipython",
    "version": 3
   },
   "file_extension": ".py",
   "mimetype": "text/x-python",
   "name": "python",
   "nbconvert_exporter": "python",
   "pygments_lexer": "ipython3",
   "version": "3.10.6"
  }
 },
 "nbformat": 4,
 "nbformat_minor": 5
}
